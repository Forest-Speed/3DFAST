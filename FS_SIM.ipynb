{
 "cells": [
  {
   "cell_type": "code",
   "execution_count": 2,
   "metadata": {},
   "outputs": [],
   "source": [
    "from pathlib import Path\n",
    "import numpy as np\n",
    "import tifffile\n",
    "from skimage.exposure import match_histograms, rescale_intensity\n",
    "from skimage.restoration import calibrate_denoiser, denoise_tv_chambolle\n",
    "import matplotlib.pyplot as plt\n",
    "from tqdm import tqdm\n",
    "import os\n",
    "\n",
    "\n",
    "def optical_sectioning_sim_90deg(imgs, method):\n",
    "    # separate 0, 90, 180 images\n",
    "    I1 = imgs[0,:]\n",
    "    I2 = imgs[1,:]\n",
    "    I3 = imgs[2,:]\n",
    "\n",
    "    # calculate OS image using law of sines to recover in-focus intensities\n",
    "    if method == 'DD':\n",
    "        os_image = 0.5 * np.sqrt((2*I2 - I1 - I3)**2 + (I3 - I1)**2) \n",
    "\n",
    "    elif method == 'NEIL':\n",
    "        os_image = np.sqrt(((I1-I2)**2)+((I1-I3)**2)+((I2-I3)**2))\n",
    "\n",
    "    else:\n",
    "        print('Invalid method. Please choose either DD or NEIL')  \n",
    "    \n",
    "    return os_image\n",
    "\n",
    "def match_histogram_z(imgs, nangles, nphases):\n",
    "    for ii in range(nangles):\n",
    "        for jj in range(1, nphases):\n",
    "            imgs[ii, jj,:] = match_histograms(imgs[ii, jj,:], imgs[ii, 0,:])\n",
    "\n",
    "    return imgs\n",
    "\n",
    "def run_SIM(file_Name, method):\n",
    "    dx = 1.0\n",
    "    dz = 1.0\n",
    "    excitation_wl = 0.470\n",
    "    emission_wl = 0.520\n",
    "    na = 0.3\n",
    "    nangles = 1\n",
    "    nphases = 3\n",
    "\n",
    "    # load the data and reshape\n",
    "    input_file_path = Path(file_Name)\n",
    "    #input_file_path = Path(\"c://users//researcher/downloads/TRYSIM_8.tif\")\n",
    "    root_path = input_file_path.parents[0]\n",
    "    img = tifffile.imread(input_file_path)\n",
    "\n",
    "    # TO DO: correctly parse metadata / load multiple images loop over timelapse\n",
    "    nt = 1\n",
    "    nz = int(img.shape[0]/(nangles*nphases))\n",
    "    ny = img.shape[1]\n",
    "    nx = img.shape[2]\n",
    "    img_reshape = np.reshape(img,[nz,nangles,nphases,ny,nx])\n",
    "\n",
    "    # turn image into float\n",
    "    img_reshape = img_reshape.astype(np.float32)\n",
    "\n",
    "    # create storage variables\n",
    "    widefield = np.zeros((nz,ny,nx),dtype=np.float32)\n",
    "    os_sim_per_angle = np.zeros((nangles,ny,nx),dtype=np.float32)\n",
    "    os_sim_angle = np.zeros((nangles,nz,ny,nx),dtype=np.float32)\n",
    "    os_sim = np.zeros((nz,ny,nx),dtype=np.float32)\n",
    "\n",
    "\n",
    "    # loop over all timepoints\n",
    "    for t_idx in tqdm(range(0,nt),desc='time',leave=True):\n",
    "\n",
    "        # check if there is more than one time point\n",
    "        if nt==1:\n",
    "            imgs_to_process = img_reshape[:]\n",
    "        else:\n",
    "            imgs_to_process = img_reshape[t_idx,:]\n",
    "        \n",
    "        for z_idx in tqdm(range(0,nz),desc='SIM OS per z plane',leave=False):\n",
    "            \n",
    "            # match histograms for each phase & angle at this z plane\n",
    "            matched_imgs = match_histogram_z(imgs_to_process[z_idx,:],nangles,nphases)\n",
    "\n",
    "            # calculate widefield image at this z plane\n",
    "            widefield[z_idx,:] = np.nanmean(matched_imgs, axis=(0, 1))\n",
    "            \n",
    "            # calculate os-sim image for each angle at this z plane\n",
    "            for angle_idx in range(0,nangles):\n",
    "                os_sim_per_angle[angle_idx,:]=optical_sectioning_sim_90deg(matched_imgs[angle_idx,:],method)\n",
    "                os_sim_angle[angle_idx,z_idx,:]=os_sim_per_angle[angle_idx,:]\n",
    "            # average os-sim over all angles at this z plane\n",
    "            os_sim[z_idx,:] = np.nanmean(os_sim_per_angle,axis=0)\n",
    "\n",
    "\n",
    "        # rescale to 16-bit for output\n",
    "        widefield = rescale_intensity(widefield,out_range=(0,65535)).astype(np.uint16)\n",
    "        os_sim = rescale_intensity(os_sim,out_range=(0,65535)).astype(np.uint16)\n",
    "\n",
    "        return widefield, os_sim\n",
    "    \n"
   ]
  },
  {
   "cell_type": "code",
   "execution_count": 3,
   "metadata": {},
   "outputs": [],
   "source": [
    "def save_Reconstructions(widefield,os_sim, input_file):\n",
    "    output_file_path_SIM = Path(input_file.rsplit('.', 1)[0] + '_SIM_Reconstruction.tif')\n",
    "    output_file_path_pWF = Path(input_file.rsplit('.', 1)[0] + '_pWF_Reconstruction.tif')\n",
    "    tifffile.imwrite(output_file_path_SIM,os_sim)\n",
    "    tifffile.imwrite(output_file_path_pWF,widefield)\n"
   ]
  },
  {
   "cell_type": "code",
   "execution_count": 4,
   "metadata": {},
   "outputs": [],
   "source": [
    "def process_Multiple_Files(folder_Name, method):\n",
    "    directory = os.fsencode(folder_Name)\n",
    "    for file in os.listdir(directory):\n",
    "        filename = os.fsdecode(file)\n",
    "        if filename.endswith(\".tif\"):\n",
    "            \n",
    "            print(file)\n",
    "            widefield, os_sim = run_SIM(folder_Name + '\\\\' + filename, method)\n",
    "            save_Reconstructions(widefield,os_sim, folder_Name +'\\\\'+ filename)\n",
    "            continue\n",
    "        else:\n",
    "            continue\n",
    "        "
   ]
  },
  {
   "cell_type": "code",
   "execution_count": 5,
   "metadata": {},
   "outputs": [
    {
     "name": "stdout",
     "output_type": "stream",
     "text": [
      "b'200Hz_TIC.tif'\n"
     ]
    },
    {
     "name": "stderr",
     "output_type": "stream",
     "text": [
      "time:   0%|          | 0/1 [00:12<?, ?it/s]\n"
     ]
    },
    {
     "name": "stdout",
     "output_type": "stream",
     "text": [
      "b'200Hz_With_TI.tif'\n"
     ]
    },
    {
     "name": "stderr",
     "output_type": "stream",
     "text": [
      "time:   0%|          | 0/1 [02:23<?, ?it/s]\n"
     ]
    },
    {
     "name": "stdout",
     "output_type": "stream",
     "text": [
      "b'SIMSIM_GCAMP1170.tif'\n"
     ]
    },
    {
     "name": "stderr",
     "output_type": "stream",
     "text": [
      "time:   0%|          | 0/1 [00:02<?, ?it/s]\n"
     ]
    },
    {
     "name": "stdout",
     "output_type": "stream",
     "text": [
      "b'SIMSIM_GCAMP_100Hz.tif'\n"
     ]
    },
    {
     "name": "stderr",
     "output_type": "stream",
     "text": [
      "time:   0%|          | 0/1 [00:26<?, ?it/s]\n"
     ]
    },
    {
     "name": "stdout",
     "output_type": "stream",
     "text": [
      "b'SIMSIM_GCAMP_200Hz.tif'\n"
     ]
    },
    {
     "name": "stderr",
     "output_type": "stream",
     "text": [
      "time:   0%|          | 0/1 [02:19<?, ?it/s]\n"
     ]
    },
    {
     "name": "stdout",
     "output_type": "stream",
     "text": [
      "b'SIMSIM_GCAMP_300Hz.tif'\n"
     ]
    },
    {
     "name": "stderr",
     "output_type": "stream",
     "text": [
      "time:   0%|          | 0/1 [00:22<?, ?it/s]\n"
     ]
    },
    {
     "name": "stdout",
     "output_type": "stream",
     "text": [
      "b'SIMSIM_GCAMP_300Hz_2.tif'\n"
     ]
    },
    {
     "name": "stderr",
     "output_type": "stream",
     "text": [
      "time:   0%|          | 0/1 [00:07<?, ?it/s]\n"
     ]
    },
    {
     "name": "stdout",
     "output_type": "stream",
     "text": [
      "b'SIMSIM_GCAMP_300Hz_3.tif'\n"
     ]
    },
    {
     "name": "stderr",
     "output_type": "stream",
     "text": [
      "time:   0%|          | 0/1 [00:06<?, ?it/s]\n"
     ]
    },
    {
     "name": "stdout",
     "output_type": "stream",
     "text": [
      "b'SIMSIM_GC_DD40_1.tif'\n"
     ]
    },
    {
     "name": "stderr",
     "output_type": "stream",
     "text": [
      "time:   0%|          | 0/1 [00:06<?, ?it/s]\n"
     ]
    },
    {
     "name": "stdout",
     "output_type": "stream",
     "text": [
      "b'try1_1666.tif'\n"
     ]
    },
    {
     "name": "stderr",
     "output_type": "stream",
     "text": [
      "time:   0%|          | 0/1 [00:00<?, ?it/s]\n"
     ]
    }
   ],
   "source": [
    "process_Multiple_Files('GCaMP6_053123','DD')"
   ]
  }
 ],
 "metadata": {
  "kernelspec": {
   "display_name": "mescore",
   "language": "python",
   "name": "python3"
  },
  "language_info": {
   "codemirror_mode": {
    "name": "ipython",
    "version": 3
   },
   "file_extension": ".py",
   "mimetype": "text/x-python",
   "name": "python",
   "nbconvert_exporter": "python",
   "pygments_lexer": "ipython3",
   "version": "3.10.8"
  },
  "orig_nbformat": 4
 },
 "nbformat": 4,
 "nbformat_minor": 2
}
