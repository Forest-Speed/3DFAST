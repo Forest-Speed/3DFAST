{
 "cells": [
  {
   "cell_type": "code",
   "execution_count": 1,
   "metadata": {},
   "outputs": [],
   "source": [
    "#!/usr/bin/env python\n",
    "\"\"\"\n",
    "Demo pipeline for processing voltage imaging data. The processing pipeline\n",
    "includes motion correction, memory mapping, segmentation, denoising and source\n",
    "extraction. The demo shows how to construct the params, MotionCorrect and VOLPY \n",
    "objects and call the relevant functions. See inside for detail.\n",
    "Dataset courtesy of Karel Svoboda Lab (Janelia Research Campus).\n",
    "author: @caichangjia\n",
    "\"\"\"\n",
    "import cv2\n",
    "import glob\n",
    "import h5py\n",
    "import logging\n",
    "import matplotlib.pyplot as plt\n",
    "import numpy as np\n",
    "import os\n",
    "\n",
    "\n",
    "\n",
    "#os.environ[\"MESMERIZE_N_PROCESSES\"] = '40'\n",
    "\n",
    "try:\n",
    "    cv2.setNumThreads(0)\n",
    "except:\n",
    "    pass\n",
    "\n",
    "try:\n",
    "    if __IPYTHON__:\n",
    "        # this is used for debugging purposes only. allows to reload classes\n",
    "        # when changed\n",
    "        get_ipython().magic('load_ext autoreload')\n",
    "        get_ipython().magic('autoreload 2')\n",
    "except NameError:\n",
    "    pass\n",
    "\n",
    "import caiman as cm\n",
    "from caiman.motion_correction import MotionCorrect\n",
    "from caiman.paths import caiman_datadir\n",
    "from caiman.source_extraction.volpy import utils\n",
    "from caiman.source_extraction.volpy.volparams import volparams\n",
    "from caiman.source_extraction.volpy.volpy import VOLPY\n",
    "from caiman.summary_images import local_correlations_movie_offline\n",
    "from caiman.summary_images import mean_image\n",
    "from caiman.utils.utils import download_demo, download_model\n",
    "\n",
    "# %%\n",
    "# Set up the logger (optional); change this if you like.\n",
    "# You can log to a file using the filename parameter, or make the output more\n",
    "# or less verbose by setting level to logging.DEBUG, logging.INFO,\n",
    "# logging.WARNING, or logging.ERROR\n",
    "logging.basicConfig(format=\n",
    "                    \"%(relativeCreated)12d [%(filename)s:%(funcName)20s():%(lineno)s]\" \\\n",
    "                    \"[%(process)d] %(message)s\",\n",
    "                    level=logging.INFO)\n"
   ]
  },
  {
   "cell_type": "code",
   "execution_count": 2,
   "metadata": {},
   "outputs": [],
   "source": [
    "def bulk_MC(filepath,save_name):\n",
    "    print(\"bulk\")\n",
    "    \n",
    "    fnames = os.fsdecode(filepath)\n",
    "    file_dir = os.path.split(fnames)[0]\n",
    "    \n",
    "    # Setup some parameters for data and motion correction dataset parameters\n",
    "    fr = 600                                     # sample rate of the movie\n",
    "    ROIs = None                                     # Region of interests\n",
    "    index = None                                    # index of neurons\n",
    "    weights = None                                  # reuse spatial weights by \n",
    "                                                    # opts.change_params(params_dict={'weights':vpy.estimates['weights']})\n",
    "    # Motion correction parameters\n",
    "    pw_rigid = False                                # flag for pw-rigid motion correction\n",
    "    gSig_filt = (6, 6)                              # size of filter, in general gSig (see below),\n",
    "                                                    # change this one if algorithm does not work\n",
    "    max_shifts = (15, 15)                             # maximum allowed rigid shift\n",
    "    strides = (48, 48)                              # start a new patch for pw-rigid motion correction every x pixels\n",
    "    overlaps = (24, 24)                             # overlap between pathes (size of patch strides+overlaps)\n",
    "    max_deviation_rigid = 3                         # maximum deviation allowed for patch with respect to rigid shifts\n",
    "    border_nan = 'copy'\n",
    "\n",
    "    opts_dict = {\n",
    "        'fnames': fnames,\n",
    "        'fr': fr,\n",
    "        'index': index,\n",
    "        'ROIs': ROIs,\n",
    "        'weights': weights,\n",
    "        'pw_rigid': pw_rigid,\n",
    "        'max_shifts': max_shifts,\n",
    "        'gSig_filt': gSig_filt,\n",
    "        'strides': strides,\n",
    "        'overlaps': overlaps,\n",
    "        'max_deviation_rigid': max_deviation_rigid,\n",
    "        'border_nan': border_nan\n",
    "    }\n",
    "\n",
    "    opts = volparams(params_dict=opts_dict)\n",
    "\n",
    "    if 'dview' in locals():\n",
    "        cm.stop_server(dview=dview)\n",
    "\n",
    "    c, dview, n_processes = cm.cluster.setup_cluster(\n",
    "            backend='local', n_processes=50, single_thread=False)\n",
    "\n",
    "    print(\"Motion COrrection\")\n",
    "    # %%% MOTION CORRECTION\n",
    "    # first we create a motion correction object with the specified parameters\n",
    "    mc = MotionCorrect(fnames, dview=dview, **opts.get_group('motion'))\n",
    "    mc.motion_correct(save_movie=True)\n",
    "    dview.terminate()\n",
    "\n",
    "    # Save MC file\n",
    "    m_rig = cm.load(mc.mmap_file)\n",
    "    m_rig.save(save_name+'_mc_.tif')\n",
    "\n",
    "\n"
   ]
  },
  {
   "cell_type": "code",
   "execution_count": 5,
   "metadata": {},
   "outputs": [
    {
     "name": "stderr",
     "output_type": "stream",
     "text": [
      "      262613 [volparams.py:                 set():95][26072] Changing key fnames in group data from None to SIM_GCAMP\\SIM_GC8_1000_6_p3.tif\n",
      "      262613 [volparams.py:                 set():95][26072] Changing key fr in group data from None to 600\n",
      "      262614 [volparams.py:                 set():95][26072] Changing key max_shifts in group motion from (6, 6) to (15, 15)\n",
      "      262614 [volparams.py:                 set():95][26072] Changing key gSig_filt in group motion from None to (6, 6)\n",
      "      262615 [volparams.py:                 set():95][26072] Changing key strides in group motion from (96, 96) to (48, 48)\n",
      "      262616 [volparams.py:                 set():95][26072] Changing key overlaps in group motion from (32, 32) to (24, 24)\n"
     ]
    },
    {
     "name": "stdout",
     "output_type": "stream",
     "text": [
      "bulk\n",
      "Motion COrrection\n"
     ]
    },
    {
     "name": "stderr",
     "output_type": "stream",
     "text": [
      "      263337 [movies.py:      extract_shifts():343][26072] Movie average is negative. Removing 1st percentile.\n",
      "      263339 [movies.py:      extract_shifts():361][26072] Movie average is negative. Removing 1st percentile.\n",
      "      263402 [movies.py:      extract_shifts():343][26072] Movie average is negative. Removing 1st percentile.\n",
      "      263404 [movies.py:      extract_shifts():361][26072] Movie average is negative. Removing 1st percentile.\n",
      "      263466 [movies.py:      extract_shifts():343][26072] Movie average is negative. Removing 1st percentile.\n",
      "      263468 [movies.py:      extract_shifts():361][26072] Movie average is negative. Removing 1st percentile.\n",
      "      263547 [motion_correction.py:motion_correction_piecewise():3197][26072] Saving file as SIM_GCAMP\\SIM_GC8_1000_6_p3_rig__d1_126_d2_298_d3_1_order_F_frames_20000.mmap\n",
      "      263549 [motion_correction.py:motion_correction_piecewise():3210][26072] ** Starting parallel motion correction **\n",
      "      286272 [motion_correction.py:motion_correction_piecewise():3218][26072] ** Finished parallel motion correction **\n",
      "  0%|          | 0/1 [00:00<?, ?it/s]"
     ]
    },
    {
     "name": "stdout",
     "output_type": "stream",
     "text": [
      "Decode mmap filename SIM_GCAMP\\SIM_GC8_1000_6_p3_rig__d1_126_d2_298_d3_1_order_F_frames_20000.mmap\n"
     ]
    },
    {
     "name": "stderr",
     "output_type": "stream",
     "text": [
      "100%|██████████| 1/1 [00:01<00:00,  1.53s/it]\n"
     ]
    }
   ],
   "source": [
    "\n",
    "\n",
    "filepath = 'SIM_GCAMP\\\\SIM_GC8_1000_6_p3.tif'\n",
    "save_name = 'SIM_GCAMP\\\\SIM_GC8_1000_6_p3_mc'\n",
    "bulk_MC(filepath,save_name)"
   ]
  },
  {
   "cell_type": "code",
   "execution_count": null,
   "metadata": {},
   "outputs": [],
   "source": [
    "def signal_filter(sg, freq, fr, order=3, mode='high'):\n",
    "    from scipy import signal\n",
    "    \"\"\"\n",
    "    Function for high/low passing the signal with butterworth filter\n",
    "    \n",
    "    Args:\n",
    "        sg: 1-d array\n",
    "            input signal\n",
    "            \n",
    "        freq: float\n",
    "            cutoff frequency\n",
    "        \n",
    "        order: int\n",
    "            order of the filter\n",
    "        \n",
    "        mode: str\n",
    "            'high' for high-pass filtering, 'low' for low-pass filtering\n",
    "            \n",
    "    Returns:\n",
    "        sg: 1-d array\n",
    "            signal after filtering            \n",
    "    \"\"\"\n",
    "    normFreq = freq / (fr / 2)\n",
    "    b, a = signal.butter(order, normFreq, mode)\n",
    "    sg = np.single(signal.filtfilt(b, a, sg, padtype='odd', padlen=3 * (max(len(b), len(a)) - 1)))\n",
    "\n",
    "    return sg"
   ]
  },
  {
   "cell_type": "code",
   "execution_count": null,
   "metadata": {},
   "outputs": [],
   "source": [
    "def bulk_Detrend(filepath,savename):\n",
    "    print(\"detrend\")\n",
    "    \n",
    "    "
   ]
  },
  {
   "cell_type": "code",
   "execution_count": 3,
   "metadata": {},
   "outputs": [],
   "source": [
    "fnames = r\"061523\"\n",
    "\n"
   ]
  },
  {
   "cell_type": "code",
   "execution_count": 5,
   "metadata": {},
   "outputs": [],
   "source": [
    "def process_Multiple_Files(folder_Name):\n",
    "    directory = os.fsencode(folder_Name)\n",
    "    for folder in os.listdir(directory):\n",
    "        subdirectory = os.fsencode(folder)\n",
    "        print(subdirectory)\n",
    "\n",
    "\n",
    "        for subsub in os.listdir(directory+b'\\\\'+subdirectory):\n",
    "            subsubdirectory = os.fsencode(subsub)\n",
    "            for file in os.listdir(directory+b'\\\\'+subdirectory+b'\\\\'+subsubdirectory):\n",
    "\n",
    "\n",
    "                filename = os.fsdecode(file)\n",
    "                if filename.endswith(\".tif\"):\n",
    "                    bulk_MC(directory+b'\\\\' + subdirectory + b'\\\\' + subsubdirectory + b'\\\\' + os.fsencode(filename),os.fsdecode(subdirectory))\n",
    "                    #print(file)\n",
    "                    continue\n",
    "                else:\n",
    "                    #print(file)\n",
    "                    continue\n",
    "        "
   ]
  },
  {
   "cell_type": "code",
   "execution_count": 22,
   "metadata": {},
   "outputs": [],
   "source": [
    "def process_Multiple_Files_1level(folder_Name):\n",
    "    directory = os.fsencode(folder_Name)\n",
    "\n",
    "    for file in os.listdir(directory):\n",
    "\n",
    "\n",
    "                filename = os.fsdecode(file)\n",
    "                if filename.endswith(\".tif\"):\n",
    "                    bulk_MC(directory+  b'\\\\' + os.fsencode(filename),os.fsdecode(filename)+'_MC')\n",
    "                    #print(file)\n",
    "                    continue\n",
    "                else:\n",
    "                    #print(file)\n",
    "                    continue"
   ]
  },
  {
   "cell_type": "code",
   "execution_count": 6,
   "metadata": {},
   "outputs": [
    {
     "name": "stderr",
     "output_type": "stream",
     "text": [
      "       45239 [volparams.py:                 set():95][27036] Changing key fnames in group data from None to 073123\\\\RC1_SV\\1_415_b4.tif\\_1\\_1_MMStack_Pos0.ome.tif\n",
      "       45240 [volparams.py:                 set():95][27036] Changing key fr in group data from None to 417\n",
      "       45240 [volparams.py:                 set():95][27036] Changing key max_shifts in group motion from (6, 6) to (15, 15)\n",
      "       45241 [volparams.py:                 set():95][27036] Changing key gSig_filt in group motion from None to (6, 6)\n",
      "       45242 [volparams.py:                 set():95][27036] Changing key strides in group motion from (96, 96) to (48, 48)\n",
      "       45242 [volparams.py:                 set():95][27036] Changing key overlaps in group motion from (32, 32) to (24, 24)\n"
     ]
    },
    {
     "name": "stdout",
     "output_type": "stream",
     "text": [
      "b'1_415_b4.tif'\n",
      "bulk\n",
      "Motion COrrection\n"
     ]
    },
    {
     "name": "stderr",
     "output_type": "stream",
     "text": [
      "       47739 [movies.py:      extract_shifts():343][27036] Movie average is negative. Removing 1st percentile.\n",
      "       47741 [movies.py:      extract_shifts():361][27036] Movie average is negative. Removing 1st percentile.\n",
      "       47817 [movies.py:      extract_shifts():343][27036] Movie average is negative. Removing 1st percentile.\n",
      "       47819 [movies.py:      extract_shifts():361][27036] Movie average is negative. Removing 1st percentile.\n",
      "       47893 [movies.py:      extract_shifts():343][27036] Movie average is negative. Removing 1st percentile.\n",
      "       47895 [movies.py:      extract_shifts():361][27036] Movie average is negative. Removing 1st percentile.\n",
      "       48671 [motion_correction.py:motion_correction_piecewise():3197][27036] Saving file as 073123\\\\RC1_SV\\1_415_b4.tif\\_1\\_1_MMStack_Pos0.ome_rig__d1_136_d2_311_d3_1_order_F_frames_12000.mmap\n",
      "       48688 [motion_correction.py:motion_correction_piecewise():3210][27036] ** Starting parallel motion correction **\n",
      "       65653 [motion_correction.py:motion_correction_piecewise():3218][27036] ** Finished parallel motion correction **\n",
      "  0%|          | 0/1 [00:00<?, ?it/s]"
     ]
    },
    {
     "name": "stdout",
     "output_type": "stream",
     "text": [
      "Decode mmap filename 073123\\\\RC1_SV\\1_415_b4.tif\\_1\\_1_MMStack_Pos0.ome_rig__d1_136_d2_311_d3_1_order_F_frames_12000.mmap\n"
     ]
    },
    {
     "name": "stderr",
     "output_type": "stream",
     "text": [
      "100%|██████████| 1/1 [00:01<00:00,  1.21s/it]\n",
      "       71909 [volparams.py:                 set():95][27036] Changing key fnames in group data from None to 073123\\\\RC1_SV\\3_417_b4\\_1\\_1_MMStack_Pos0.ome.tif\n",
      "       71910 [volparams.py:                 set():95][27036] Changing key fr in group data from None to 417\n",
      "       71910 [volparams.py:                 set():95][27036] Changing key max_shifts in group motion from (6, 6) to (15, 15)\n",
      "       71911 [volparams.py:                 set():95][27036] Changing key gSig_filt in group motion from None to (6, 6)\n",
      "       71912 [volparams.py:                 set():95][27036] Changing key strides in group motion from (96, 96) to (48, 48)\n",
      "       71912 [volparams.py:                 set():95][27036] Changing key overlaps in group motion from (32, 32) to (24, 24)\n"
     ]
    },
    {
     "name": "stdout",
     "output_type": "stream",
     "text": [
      "b'3_417_b4'\n",
      "bulk\n",
      "Motion COrrection\n"
     ]
    },
    {
     "name": "stderr",
     "output_type": "stream",
     "text": [
      "       75802 [movies.py:      extract_shifts():343][27036] Movie average is negative. Removing 1st percentile.\n",
      "       75804 [movies.py:      extract_shifts():361][27036] Movie average is negative. Removing 1st percentile.\n",
      "       75870 [movies.py:      extract_shifts():343][27036] Movie average is negative. Removing 1st percentile.\n",
      "       75872 [movies.py:      extract_shifts():361][27036] Movie average is negative. Removing 1st percentile.\n",
      "       75936 [movies.py:      extract_shifts():343][27036] Movie average is negative. Removing 1st percentile.\n",
      "       75938 [movies.py:      extract_shifts():361][27036] Movie average is negative. Removing 1st percentile.\n",
      "       76569 [motion_correction.py:motion_correction_piecewise():3197][27036] Saving file as 073123\\\\RC1_SV\\3_417_b4\\_1\\_1_MMStack_Pos0.ome_rig__d1_133_d2_289_d3_1_order_F_frames_12000.mmap\n",
      "       76587 [motion_correction.py:motion_correction_piecewise():3210][27036] ** Starting parallel motion correction **\n",
      "       92873 [motion_correction.py:motion_correction_piecewise():3218][27036] ** Finished parallel motion correction **\n",
      "  0%|          | 0/1 [00:00<?, ?it/s]"
     ]
    },
    {
     "name": "stdout",
     "output_type": "stream",
     "text": [
      "Decode mmap filename 073123\\\\RC1_SV\\3_417_b4\\_1\\_1_MMStack_Pos0.ome_rig__d1_133_d2_289_d3_1_order_F_frames_12000.mmap\n"
     ]
    },
    {
     "name": "stderr",
     "output_type": "stream",
     "text": [
      "100%|██████████| 1/1 [00:01<00:00,  1.19s/it]\n",
      "       99115 [volparams.py:                 set():95][27036] Changing key fnames in group data from None to 073123\\\\RC1_SV\\4_417_b4\\_1\\_1_MMStack_Pos0.ome.tif\n",
      "       99116 [volparams.py:                 set():95][27036] Changing key fr in group data from None to 417\n",
      "       99116 [volparams.py:                 set():95][27036] Changing key max_shifts in group motion from (6, 6) to (15, 15)\n",
      "       99117 [volparams.py:                 set():95][27036] Changing key gSig_filt in group motion from None to (6, 6)\n",
      "       99118 [volparams.py:                 set():95][27036] Changing key strides in group motion from (96, 96) to (48, 48)\n",
      "       99118 [volparams.py:                 set():95][27036] Changing key overlaps in group motion from (32, 32) to (24, 24)\n"
     ]
    },
    {
     "name": "stdout",
     "output_type": "stream",
     "text": [
      "b'4_417_b4'\n",
      "bulk\n",
      "Motion COrrection\n"
     ]
    },
    {
     "name": "stderr",
     "output_type": "stream",
     "text": [
      "      103360 [movies.py:      extract_shifts():343][27036] Movie average is negative. Removing 1st percentile.\n",
      "      103363 [movies.py:      extract_shifts():361][27036] Movie average is negative. Removing 1st percentile.\n",
      "      103494 [movies.py:      extract_shifts():343][27036] Movie average is negative. Removing 1st percentile.\n",
      "      103497 [movies.py:      extract_shifts():361][27036] Movie average is negative. Removing 1st percentile.\n",
      "      103626 [movies.py:      extract_shifts():343][27036] Movie average is negative. Removing 1st percentile.\n",
      "      103629 [movies.py:      extract_shifts():361][27036] Movie average is negative. Removing 1st percentile.\n",
      "      104508 [motion_correction.py:motion_correction_piecewise():3197][27036] Saving file as 073123\\\\RC1_SV\\4_417_b4\\_1\\_1_MMStack_Pos0.ome_rig__d1_147_d2_483_d3_1_order_F_frames_12000.mmap\n",
      "      104525 [motion_correction.py:motion_correction_piecewise():3210][27036] ** Starting parallel motion correction **\n",
      "      131536 [motion_correction.py:motion_correction_piecewise():3218][27036] ** Finished parallel motion correction **\n",
      "  0%|          | 0/1 [00:00<?, ?it/s]"
     ]
    },
    {
     "name": "stdout",
     "output_type": "stream",
     "text": [
      "Decode mmap filename 073123\\\\RC1_SV\\4_417_b4\\_1\\_1_MMStack_Pos0.ome_rig__d1_147_d2_483_d3_1_order_F_frames_12000.mmap\n"
     ]
    },
    {
     "name": "stderr",
     "output_type": "stream",
     "text": [
      "100%|██████████| 1/1 [00:02<00:00,  2.07s/it]\n",
      "      142158 [volparams.py:                 set():95][27036] Changing key fnames in group data from None to 073123\\\\RC1_SV\\5_417_b4\\_1\\_1_MMStack_Pos0.ome.tif\n",
      "      142159 [volparams.py:                 set():95][27036] Changing key fr in group data from None to 417\n",
      "      142159 [volparams.py:                 set():95][27036] Changing key max_shifts in group motion from (6, 6) to (15, 15)\n",
      "      142160 [volparams.py:                 set():95][27036] Changing key gSig_filt in group motion from None to (6, 6)\n",
      "      142160 [volparams.py:                 set():95][27036] Changing key strides in group motion from (96, 96) to (48, 48)\n",
      "      142161 [volparams.py:                 set():95][27036] Changing key overlaps in group motion from (32, 32) to (24, 24)\n"
     ]
    },
    {
     "name": "stdout",
     "output_type": "stream",
     "text": [
      "b'5_417_b4'\n",
      "bulk\n",
      "Motion COrrection\n"
     ]
    },
    {
     "name": "stderr",
     "output_type": "stream",
     "text": [
      "      146182 [movies.py:      extract_shifts():343][27036] Movie average is negative. Removing 1st percentile.\n",
      "      146185 [movies.py:      extract_shifts():361][27036] Movie average is negative. Removing 1st percentile.\n",
      "      146276 [movies.py:      extract_shifts():343][27036] Movie average is negative. Removing 1st percentile.\n",
      "      146278 [movies.py:      extract_shifts():361][27036] Movie average is negative. Removing 1st percentile.\n",
      "      146368 [movies.py:      extract_shifts():343][27036] Movie average is negative. Removing 1st percentile.\n",
      "      146371 [movies.py:      extract_shifts():361][27036] Movie average is negative. Removing 1st percentile.\n",
      "      147014 [motion_correction.py:motion_correction_piecewise():3197][27036] Saving file as 073123\\\\RC1_SV\\5_417_b4\\_1\\_1_MMStack_Pos0.ome_rig__d1_128_d2_410_d3_1_order_F_frames_12000.mmap\n",
      "      147032 [motion_correction.py:motion_correction_piecewise():3210][27036] ** Starting parallel motion correction **\n",
      "      166034 [motion_correction.py:motion_correction_piecewise():3218][27036] ** Finished parallel motion correction **\n",
      "  0%|          | 0/1 [00:00<?, ?it/s]"
     ]
    },
    {
     "name": "stdout",
     "output_type": "stream",
     "text": [
      "Decode mmap filename 073123\\\\RC1_SV\\5_417_b4\\_1\\_1_MMStack_Pos0.ome_rig__d1_128_d2_410_d3_1_order_F_frames_12000.mmap\n"
     ]
    },
    {
     "name": "stderr",
     "output_type": "stream",
     "text": [
      "100%|██████████| 1/1 [00:01<00:00,  1.48s/it]\n",
      "      174040 [volparams.py:                 set():95][27036] Changing key fnames in group data from None to 073123\\\\RC1_SV\\6_417_b4\\_1\\_1_MMStack_Pos0.ome.tif\n",
      "      174041 [volparams.py:                 set():95][27036] Changing key fr in group data from None to 417\n",
      "      174041 [volparams.py:                 set():95][27036] Changing key max_shifts in group motion from (6, 6) to (15, 15)\n",
      "      174042 [volparams.py:                 set():95][27036] Changing key gSig_filt in group motion from None to (6, 6)\n",
      "      174042 [volparams.py:                 set():95][27036] Changing key strides in group motion from (96, 96) to (48, 48)\n",
      "      174043 [volparams.py:                 set():95][27036] Changing key overlaps in group motion from (32, 32) to (24, 24)\n"
     ]
    },
    {
     "name": "stdout",
     "output_type": "stream",
     "text": [
      "b'6_417_b4'\n",
      "bulk\n",
      "Motion COrrection\n"
     ]
    },
    {
     "name": "stderr",
     "output_type": "stream",
     "text": [
      "      178072 [movies.py:      extract_shifts():343][27036] Movie average is negative. Removing 1st percentile.\n",
      "      178074 [movies.py:      extract_shifts():361][27036] Movie average is negative. Removing 1st percentile.\n",
      "      178160 [movies.py:      extract_shifts():343][27036] Movie average is negative. Removing 1st percentile.\n",
      "      178162 [movies.py:      extract_shifts():361][27036] Movie average is negative. Removing 1st percentile.\n",
      "      178246 [movies.py:      extract_shifts():343][27036] Movie average is negative. Removing 1st percentile.\n",
      "      178249 [movies.py:      extract_shifts():361][27036] Movie average is negative. Removing 1st percentile.\n",
      "      178902 [motion_correction.py:motion_correction_piecewise():3197][27036] Saving file as 073123\\\\RC1_SV\\6_417_b4\\_1\\_1_MMStack_Pos0.ome_rig__d1_128_d2_410_d3_1_order_F_frames_12000.mmap\n",
      "      178920 [motion_correction.py:motion_correction_piecewise():3210][27036] ** Starting parallel motion correction **\n",
      "      199561 [motion_correction.py:motion_correction_piecewise():3218][27036] ** Finished parallel motion correction **\n",
      "  0%|          | 0/1 [00:00<?, ?it/s]"
     ]
    },
    {
     "name": "stdout",
     "output_type": "stream",
     "text": [
      "Decode mmap filename 073123\\\\RC1_SV\\6_417_b4\\_1\\_1_MMStack_Pos0.ome_rig__d1_128_d2_410_d3_1_order_F_frames_12000.mmap\n"
     ]
    },
    {
     "name": "stderr",
     "output_type": "stream",
     "text": [
      "100%|██████████| 1/1 [00:01<00:00,  1.52s/it]\n",
      "      207863 [volparams.py:                 set():95][27036] Changing key fnames in group data from None to 073123\\\\RC1_SV\\7_400_b4\\_1\\_1_MMStack_Pos0.ome.tif\n",
      "      207864 [volparams.py:                 set():95][27036] Changing key fr in group data from None to 417\n",
      "      207864 [volparams.py:                 set():95][27036] Changing key max_shifts in group motion from (6, 6) to (15, 15)\n",
      "      207865 [volparams.py:                 set():95][27036] Changing key gSig_filt in group motion from None to (6, 6)\n",
      "      207866 [volparams.py:                 set():95][27036] Changing key strides in group motion from (96, 96) to (48, 48)\n",
      "      207866 [volparams.py:                 set():95][27036] Changing key overlaps in group motion from (32, 32) to (24, 24)\n"
     ]
    },
    {
     "name": "stdout",
     "output_type": "stream",
     "text": [
      "b'7_400_b4'\n",
      "bulk\n",
      "Motion COrrection\n"
     ]
    },
    {
     "name": "stderr",
     "output_type": "stream",
     "text": [
      "      211760 [movies.py:      extract_shifts():343][27036] Movie average is negative. Removing 1st percentile.\n",
      "      211762 [movies.py:      extract_shifts():361][27036] Movie average is negative. Removing 1st percentile.\n",
      "      211833 [movies.py:      extract_shifts():343][27036] Movie average is negative. Removing 1st percentile.\n",
      "      211835 [movies.py:      extract_shifts():361][27036] Movie average is negative. Removing 1st percentile.\n",
      "      211905 [movies.py:      extract_shifts():343][27036] Movie average is negative. Removing 1st percentile.\n",
      "      211907 [movies.py:      extract_shifts():361][27036] Movie average is negative. Removing 1st percentile.\n",
      "      212725 [motion_correction.py:motion_correction_piecewise():3197][27036] Saving file as 073123\\\\RC1_SV\\7_400_b4\\_1\\_1_MMStack_Pos0.ome_rig__d1_119_d2_360_d3_1_order_F_frames_12000.mmap\n",
      "      212742 [motion_correction.py:motion_correction_piecewise():3210][27036] ** Starting parallel motion correction **\n",
      "      230678 [motion_correction.py:motion_correction_piecewise():3218][27036] ** Finished parallel motion correction **\n",
      "  0%|          | 0/1 [00:00<?, ?it/s]"
     ]
    },
    {
     "name": "stdout",
     "output_type": "stream",
     "text": [
      "Decode mmap filename 073123\\\\RC1_SV\\7_400_b4\\_1\\_1_MMStack_Pos0.ome_rig__d1_119_d2_360_d3_1_order_F_frames_12000.mmap\n"
     ]
    },
    {
     "name": "stderr",
     "output_type": "stream",
     "text": [
      "100%|██████████| 1/1 [00:01<00:00,  1.37s/it]\n",
      "      237974 [volparams.py:                 set():95][27036] Changing key fnames in group data from None to 073123\\\\RC1_SV\\8_400_b4\\_1\\_1_MMStack_Pos0.ome.tif\n",
      "      237974 [volparams.py:                 set():95][27036] Changing key fr in group data from None to 417\n",
      "      237975 [volparams.py:                 set():95][27036] Changing key max_shifts in group motion from (6, 6) to (15, 15)\n",
      "      237976 [volparams.py:                 set():95][27036] Changing key gSig_filt in group motion from None to (6, 6)\n",
      "      237976 [volparams.py:                 set():95][27036] Changing key strides in group motion from (96, 96) to (48, 48)\n",
      "      237977 [volparams.py:                 set():95][27036] Changing key overlaps in group motion from (32, 32) to (24, 24)\n"
     ]
    },
    {
     "name": "stdout",
     "output_type": "stream",
     "text": [
      "b'8_400_b4'\n",
      "bulk\n",
      "Motion COrrection\n"
     ]
    },
    {
     "name": "stderr",
     "output_type": "stream",
     "text": [
      "      241874 [movies.py:      extract_shifts():343][27036] Movie average is negative. Removing 1st percentile.\n",
      "      241876 [movies.py:      extract_shifts():361][27036] Movie average is negative. Removing 1st percentile.\n",
      "      241953 [movies.py:      extract_shifts():343][27036] Movie average is negative. Removing 1st percentile.\n",
      "      241955 [movies.py:      extract_shifts():361][27036] Movie average is negative. Removing 1st percentile.\n",
      "      242027 [movies.py:      extract_shifts():343][27036] Movie average is negative. Removing 1st percentile.\n",
      "      242029 [movies.py:      extract_shifts():361][27036] Movie average is negative. Removing 1st percentile.\n",
      "      242645 [motion_correction.py:motion_correction_piecewise():3197][27036] Saving file as 073123\\\\RC1_SV\\8_400_b4\\_1\\_1_MMStack_Pos0.ome_rig__d1_119_d2_360_d3_1_order_F_frames_12000.mmap\n",
      "      242663 [motion_correction.py:motion_correction_piecewise():3210][27036] ** Starting parallel motion correction **\n",
      "      261083 [motion_correction.py:motion_correction_piecewise():3218][27036] ** Finished parallel motion correction **\n",
      "  0%|          | 0/1 [00:00<?, ?it/s]"
     ]
    },
    {
     "name": "stdout",
     "output_type": "stream",
     "text": [
      "Decode mmap filename 073123\\\\RC1_SV\\8_400_b4\\_1\\_1_MMStack_Pos0.ome_rig__d1_119_d2_360_d3_1_order_F_frames_12000.mmap\n"
     ]
    },
    {
     "name": "stderr",
     "output_type": "stream",
     "text": [
      "100%|██████████| 1/1 [00:01<00:00,  1.50s/it]\n",
      "      268280 [volparams.py:                 set():95][27036] Changing key fnames in group data from None to 073123\\\\RC1_SV\\9_417_b2\\_1\\_1_MMStack_Pos0.ome.tif\n",
      "      268281 [volparams.py:                 set():95][27036] Changing key fr in group data from None to 417\n",
      "      268282 [volparams.py:                 set():95][27036] Changing key max_shifts in group motion from (6, 6) to (15, 15)\n",
      "      268283 [volparams.py:                 set():95][27036] Changing key gSig_filt in group motion from None to (6, 6)\n",
      "      268283 [volparams.py:                 set():95][27036] Changing key strides in group motion from (96, 96) to (48, 48)\n",
      "      268284 [volparams.py:                 set():95][27036] Changing key overlaps in group motion from (32, 32) to (24, 24)\n"
     ]
    },
    {
     "name": "stdout",
     "output_type": "stream",
     "text": [
      "b'9_417_b2'\n",
      "bulk\n",
      "Motion COrrection\n"
     ]
    },
    {
     "name": "stderr",
     "output_type": "stream",
     "text": [
      "      268992 [tifffile.py:         log_warning():22909][27036] <tifffile.TiffFile '_1_MMStack_Pos0.ome.tif'> OME series failed to read '_1_MMStack_Pos0_1.ome.tif'. Missing data are zeroed\n",
      "      269367 [tifffile.py:         log_warning():22909][27036] <tifffile.TiffFile '_1_MMStack_Pos0.ome.tif'> OME series failed to read 1078 files\n",
      "      271468 [tifffile.py:         log_warning():22909][27036] <tifffile.TiffFile '_1_MMStack_Pos0.ome.tif'> OME series failed to read '_1_MMStack_Pos0_1.ome.tif'. Missing data are zeroed\n",
      "      271833 [tifffile.py:         log_warning():22909][27036] <tifffile.TiffFile '_1_MMStack_Pos0.ome.tif'> OME series failed to read 1078 files\n",
      "      272304 [tifffile.py:         log_warning():22909][27036] <tifffile.TiffFile '_1_MMStack_Pos0.ome.tif'> OME series failed to read '_1_MMStack_Pos0_1.ome.tif'. Missing data are zeroed\n",
      "      272669 [tifffile.py:         log_warning():22909][27036] <tifffile.TiffFile '_1_MMStack_Pos0.ome.tif'> OME series failed to read 1078 files\n",
      "      272938 [movies.py:      extract_shifts():343][27036] Movie average is negative. Removing 1st percentile.\n",
      "      272946 [movies.py:      extract_shifts():361][27036] Movie average is negative. Removing 1st percentile.\n",
      "      273338 [movies.py:      extract_shifts():343][27036] Movie average is negative. Removing 1st percentile.\n",
      "      273346 [movies.py:      extract_shifts():361][27036] Movie average is negative. Removing 1st percentile.\n",
      "      273729 [movies.py:      extract_shifts():343][27036] Movie average is negative. Removing 1st percentile.\n",
      "      273737 [movies.py:      extract_shifts():361][27036] Movie average is negative. Removing 1st percentile.\n",
      "      274527 [tifffile.py:         log_warning():22909][27036] <tifffile.TiffFile '_1_MMStack_Pos0.ome.tif'> OME series failed to read '_1_MMStack_Pos0_1.ome.tif'. Missing data are zeroed\n",
      "      274895 [tifffile.py:         log_warning():22909][27036] <tifffile.TiffFile '_1_MMStack_Pos0.ome.tif'> OME series failed to read 1078 files\n",
      "      275533 [motion_correction.py:motion_correction_piecewise():3197][27036] Saving file as 073123\\\\RC1_SV\\9_417_b2\\_1\\_1_MMStack_Pos0.ome_rig__d1_272_d2_804_d3_1_order_F_frames_10604.mmap\n",
      "      275550 [motion_correction.py:motion_correction_piecewise():3210][27036] ** Starting parallel motion correction **\n"
     ]
    },
    {
     "ename": "IndexError",
     "evalue": "index 9526 out of range(9526)",
     "output_type": "error",
     "traceback": [
      "\u001b[1;31m---------------------------------------------------------------------------\u001b[0m",
      "\u001b[1;31mRemoteTraceback\u001b[0m                           Traceback (most recent call last)",
      "\u001b[1;31mRemoteTraceback\u001b[0m: \n\"\"\"\nTraceback (most recent call last):\n  File \"c:\\Users\\Researcher\\anaconda3\\envs\\cloned_mescore\\lib\\multiprocessing\\pool.py\", line 125, in worker\n    result = (True, func(*args, **kwds))\n  File \"c:\\Users\\Researcher\\anaconda3\\envs\\cloned_mescore\\lib\\multiprocessing\\pool.py\", line 48, in mapstar\n    return list(map(*args))\n  File \"c:\\Users\\Researcher\\anaconda3\\envs\\cloned_mescore\\lib\\site-packages\\caiman\\motion_correction.py\", line 3096, in tile_and_correct_wrapper\n    imgs = cm.load(img_name, subindices=idxs, var_name_hdf5=var_name_hdf5,is3D=is3D)\n  File \"c:\\Users\\Researcher\\anaconda3\\envs\\cloned_mescore\\lib\\site-packages\\caiman\\base\\movies.py\", line 1518, in load\n    input_arr = tffl.asarray(key=subindices)\n  File \"c:\\Users\\Researcher\\anaconda3\\envs\\cloned_mescore\\lib\\site-packages\\tifffile\\tifffile.py\", line 4135, in asarray\n    pages = pages._getlist(key)\n  File \"c:\\Users\\Researcher\\anaconda3\\envs\\cloned_mescore\\lib\\site-packages\\tifffile\\tifffile.py\", line 7120, in _getlist\n    pages = [getitem(i, validate=validhash) for i in key]\n  File \"c:\\Users\\Researcher\\anaconda3\\envs\\cloned_mescore\\lib\\site-packages\\tifffile\\tifffile.py\", line 7120, in <listcomp>\n    pages = [getitem(i, validate=validhash) for i in key]\n  File \"c:\\Users\\Researcher\\anaconda3\\envs\\cloned_mescore\\lib\\site-packages\\tifffile\\tifffile.py\", line 7146, in _getitem\n    raise IndexError(f'index {key} out of range({len(pages)})')\nIndexError: index 9526 out of range(9526)\n\"\"\"",
      "\nThe above exception was the direct cause of the following exception:\n",
      "\u001b[1;31mIndexError\u001b[0m                                Traceback (most recent call last)",
      "\u001b[1;32m~\\AppData\\Local\\Temp\\ipykernel_27036\\4270064202.py\u001b[0m in \u001b[0;36m<module>\u001b[1;34m\u001b[0m\n\u001b[0;32m      1\u001b[0m \u001b[0mfnames\u001b[0m \u001b[1;33m=\u001b[0m \u001b[1;34mr\"073123\\\\RC1_SV\"\u001b[0m\u001b[1;33m\u001b[0m\u001b[1;33m\u001b[0m\u001b[0m\n\u001b[1;32m----> 2\u001b[1;33m \u001b[0mprocess_Multiple_Files\u001b[0m\u001b[1;33m(\u001b[0m\u001b[0mfnames\u001b[0m\u001b[1;33m)\u001b[0m\u001b[1;33m\u001b[0m\u001b[1;33m\u001b[0m\u001b[0m\n\u001b[0m",
      "\u001b[1;32m~\\AppData\\Local\\Temp\\ipykernel_27036\\3155054511.py\u001b[0m in \u001b[0;36mprocess_Multiple_Files\u001b[1;34m(folder_Name)\u001b[0m\n\u001b[0;32m     13\u001b[0m                 \u001b[0mfilename\u001b[0m \u001b[1;33m=\u001b[0m \u001b[0mos\u001b[0m\u001b[1;33m.\u001b[0m\u001b[0mfsdecode\u001b[0m\u001b[1;33m(\u001b[0m\u001b[0mfile\u001b[0m\u001b[1;33m)\u001b[0m\u001b[1;33m\u001b[0m\u001b[1;33m\u001b[0m\u001b[0m\n\u001b[0;32m     14\u001b[0m                 \u001b[1;32mif\u001b[0m \u001b[0mfilename\u001b[0m\u001b[1;33m.\u001b[0m\u001b[0mendswith\u001b[0m\u001b[1;33m(\u001b[0m\u001b[1;34m\".tif\"\u001b[0m\u001b[1;33m)\u001b[0m\u001b[1;33m:\u001b[0m\u001b[1;33m\u001b[0m\u001b[1;33m\u001b[0m\u001b[0m\n\u001b[1;32m---> 15\u001b[1;33m                     \u001b[0mbulk_MC\u001b[0m\u001b[1;33m(\u001b[0m\u001b[0mdirectory\u001b[0m\u001b[1;33m+\u001b[0m\u001b[1;34mb'\\\\'\u001b[0m \u001b[1;33m+\u001b[0m \u001b[0msubdirectory\u001b[0m \u001b[1;33m+\u001b[0m \u001b[1;34mb'\\\\'\u001b[0m \u001b[1;33m+\u001b[0m \u001b[0msubsubdirectory\u001b[0m \u001b[1;33m+\u001b[0m \u001b[1;34mb'\\\\'\u001b[0m \u001b[1;33m+\u001b[0m \u001b[0mos\u001b[0m\u001b[1;33m.\u001b[0m\u001b[0mfsencode\u001b[0m\u001b[1;33m(\u001b[0m\u001b[0mfilename\u001b[0m\u001b[1;33m)\u001b[0m\u001b[1;33m,\u001b[0m\u001b[0mos\u001b[0m\u001b[1;33m.\u001b[0m\u001b[0mfsdecode\u001b[0m\u001b[1;33m(\u001b[0m\u001b[0msubdirectory\u001b[0m\u001b[1;33m)\u001b[0m\u001b[1;33m)\u001b[0m\u001b[1;33m\u001b[0m\u001b[1;33m\u001b[0m\u001b[0m\n\u001b[0m\u001b[0;32m     16\u001b[0m                     \u001b[1;31m#print(file)\u001b[0m\u001b[1;33m\u001b[0m\u001b[1;33m\u001b[0m\u001b[0m\n\u001b[0;32m     17\u001b[0m                     \u001b[1;32mcontinue\u001b[0m\u001b[1;33m\u001b[0m\u001b[1;33m\u001b[0m\u001b[0m\n",
      "\u001b[1;32m~\\AppData\\Local\\Temp\\ipykernel_27036\\1998970757.py\u001b[0m in \u001b[0;36mbulk_MC\u001b[1;34m(filepath, save_name)\u001b[0m\n\u001b[0;32m     48\u001b[0m     \u001b[1;31m# first we create a motion correction object with the specified parameters\u001b[0m\u001b[1;33m\u001b[0m\u001b[1;33m\u001b[0m\u001b[0m\n\u001b[0;32m     49\u001b[0m     \u001b[0mmc\u001b[0m \u001b[1;33m=\u001b[0m \u001b[0mMotionCorrect\u001b[0m\u001b[1;33m(\u001b[0m\u001b[0mfnames\u001b[0m\u001b[1;33m,\u001b[0m \u001b[0mdview\u001b[0m\u001b[1;33m=\u001b[0m\u001b[0mdview\u001b[0m\u001b[1;33m,\u001b[0m \u001b[1;33m**\u001b[0m\u001b[0mopts\u001b[0m\u001b[1;33m.\u001b[0m\u001b[0mget_group\u001b[0m\u001b[1;33m(\u001b[0m\u001b[1;34m'motion'\u001b[0m\u001b[1;33m)\u001b[0m\u001b[1;33m)\u001b[0m\u001b[1;33m\u001b[0m\u001b[1;33m\u001b[0m\u001b[0m\n\u001b[1;32m---> 50\u001b[1;33m     \u001b[0mmc\u001b[0m\u001b[1;33m.\u001b[0m\u001b[0mmotion_correct\u001b[0m\u001b[1;33m(\u001b[0m\u001b[0msave_movie\u001b[0m\u001b[1;33m=\u001b[0m\u001b[1;32mTrue\u001b[0m\u001b[1;33m)\u001b[0m\u001b[1;33m\u001b[0m\u001b[1;33m\u001b[0m\u001b[0m\n\u001b[0m\u001b[0;32m     51\u001b[0m     \u001b[0mdview\u001b[0m\u001b[1;33m.\u001b[0m\u001b[0mterminate\u001b[0m\u001b[1;33m(\u001b[0m\u001b[1;33m)\u001b[0m\u001b[1;33m\u001b[0m\u001b[1;33m\u001b[0m\u001b[0m\n\u001b[0;32m     52\u001b[0m \u001b[1;33m\u001b[0m\u001b[0m\n",
      "\u001b[1;32mc:\\Users\\Researcher\\anaconda3\\envs\\cloned_mescore\\lib\\site-packages\\caiman\\motion_correction.py\u001b[0m in \u001b[0;36mmotion_correct\u001b[1;34m(self, template, save_movie)\u001b[0m\n\u001b[0;32m    267\u001b[0m                                     np.max(np.abs(self.y_shifts_els))))\n\u001b[0;32m    268\u001b[0m         \u001b[1;32melse\u001b[0m\u001b[1;33m:\u001b[0m\u001b[1;33m\u001b[0m\u001b[1;33m\u001b[0m\u001b[0m\n\u001b[1;32m--> 269\u001b[1;33m             \u001b[0mself\u001b[0m\u001b[1;33m.\u001b[0m\u001b[0mmotion_correct_rigid\u001b[0m\u001b[1;33m(\u001b[0m\u001b[0mtemplate\u001b[0m\u001b[1;33m=\u001b[0m\u001b[0mtemplate\u001b[0m\u001b[1;33m,\u001b[0m \u001b[0msave_movie\u001b[0m\u001b[1;33m=\u001b[0m\u001b[0msave_movie\u001b[0m\u001b[1;33m)\u001b[0m\u001b[1;33m\u001b[0m\u001b[1;33m\u001b[0m\u001b[0m\n\u001b[0m\u001b[0;32m    270\u001b[0m             \u001b[0mb0\u001b[0m \u001b[1;33m=\u001b[0m \u001b[0mnp\u001b[0m\u001b[1;33m.\u001b[0m\u001b[0mceil\u001b[0m\u001b[1;33m(\u001b[0m\u001b[0mnp\u001b[0m\u001b[1;33m.\u001b[0m\u001b[0mmax\u001b[0m\u001b[1;33m(\u001b[0m\u001b[0mnp\u001b[0m\u001b[1;33m.\u001b[0m\u001b[0mabs\u001b[0m\u001b[1;33m(\u001b[0m\u001b[0mself\u001b[0m\u001b[1;33m.\u001b[0m\u001b[0mshifts_rig\u001b[0m\u001b[1;33m)\u001b[0m\u001b[1;33m)\u001b[0m\u001b[1;33m)\u001b[0m\u001b[1;33m\u001b[0m\u001b[1;33m\u001b[0m\u001b[0m\n\u001b[0;32m    271\u001b[0m         \u001b[0mself\u001b[0m\u001b[1;33m.\u001b[0m\u001b[0mborder_to_0\u001b[0m \u001b[1;33m=\u001b[0m \u001b[0mb0\u001b[0m\u001b[1;33m.\u001b[0m\u001b[0mastype\u001b[0m\u001b[1;33m(\u001b[0m\u001b[0mint\u001b[0m\u001b[1;33m)\u001b[0m\u001b[1;33m\u001b[0m\u001b[1;33m\u001b[0m\u001b[0m\n",
      "\u001b[1;32mc:\\Users\\Researcher\\anaconda3\\envs\\cloned_mescore\\lib\\site-packages\\caiman\\motion_correction.py\u001b[0m in \u001b[0;36mmotion_correct_rigid\u001b[1;34m(self, template, save_movie)\u001b[0m\n\u001b[0;32m    301\u001b[0m \u001b[1;33m\u001b[0m\u001b[0m\n\u001b[0;32m    302\u001b[0m         \u001b[1;32mfor\u001b[0m \u001b[0mfname_cur\u001b[0m \u001b[1;32min\u001b[0m \u001b[0mself\u001b[0m\u001b[1;33m.\u001b[0m\u001b[0mfname\u001b[0m\u001b[1;33m:\u001b[0m\u001b[1;33m\u001b[0m\u001b[1;33m\u001b[0m\u001b[0m\n\u001b[1;32m--> 303\u001b[1;33m             _fname_tot_rig, _total_template_rig, _templates_rig, _shifts_rig = motion_correct_batch_rigid(\n\u001b[0m\u001b[0;32m    304\u001b[0m                 \u001b[0mfname_cur\u001b[0m\u001b[1;33m,\u001b[0m\u001b[1;33m\u001b[0m\u001b[1;33m\u001b[0m\u001b[0m\n\u001b[0;32m    305\u001b[0m                 \u001b[0mself\u001b[0m\u001b[1;33m.\u001b[0m\u001b[0mmax_shifts\u001b[0m\u001b[1;33m,\u001b[0m\u001b[1;33m\u001b[0m\u001b[1;33m\u001b[0m\u001b[0m\n",
      "\u001b[1;32mc:\\Users\\Researcher\\anaconda3\\envs\\cloned_mescore\\lib\\site-packages\\caiman\\motion_correction.py\u001b[0m in \u001b[0;36mmotion_correct_batch_rigid\u001b[1;34m(fname, max_shifts, dview, splits, num_splits_to_process, num_iter, template, shifts_opencv, save_movie_rigid, add_to_movie, nonneg_movie, gSig_filt, subidx, use_cuda, border_nan, var_name_hdf5, is3D, indices)\u001b[0m\n\u001b[0;32m   2891\u001b[0m             \u001b[0mbase_name\u001b[0m\u001b[1;33m=\u001b[0m\u001b[0mos\u001b[0m\u001b[1;33m.\u001b[0m\u001b[0mpath\u001b[0m\u001b[1;33m.\u001b[0m\u001b[0msplitext\u001b[0m\u001b[1;33m(\u001b[0m\u001b[0mos\u001b[0m\u001b[1;33m.\u001b[0m\u001b[0mpath\u001b[0m\u001b[1;33m.\u001b[0m\u001b[0msplit\u001b[0m\u001b[1;33m(\u001b[0m\u001b[0mfname\u001b[0m\u001b[1;33m)\u001b[0m\u001b[1;33m[\u001b[0m\u001b[1;33m-\u001b[0m\u001b[1;36m1\u001b[0m\u001b[1;33m]\u001b[0m\u001b[1;33m)\u001b[0m\u001b[1;33m[\u001b[0m\u001b[1;36m0\u001b[0m\u001b[1;33m]\u001b[0m \u001b[1;33m+\u001b[0m \u001b[1;34m'_rig_'\u001b[0m\u001b[1;33m\u001b[0m\u001b[1;33m\u001b[0m\u001b[0m\n\u001b[0;32m   2892\u001b[0m \u001b[1;33m\u001b[0m\u001b[0m\n\u001b[1;32m-> 2893\u001b[1;33m         fname_tot_rig, res_rig = motion_correction_piecewise(fname, splits, strides=None, overlaps=None,\n\u001b[0m\u001b[0;32m   2894\u001b[0m                                                              \u001b[0madd_to_movie\u001b[0m\u001b[1;33m=\u001b[0m\u001b[0madd_to_movie\u001b[0m\u001b[1;33m,\u001b[0m \u001b[0mtemplate\u001b[0m\u001b[1;33m=\u001b[0m\u001b[0mold_templ\u001b[0m\u001b[1;33m,\u001b[0m \u001b[0mmax_shifts\u001b[0m\u001b[1;33m=\u001b[0m\u001b[0mmax_shifts\u001b[0m\u001b[1;33m,\u001b[0m \u001b[0mmax_deviation_rigid\u001b[0m\u001b[1;33m=\u001b[0m\u001b[1;36m0\u001b[0m\u001b[1;33m,\u001b[0m\u001b[1;33m\u001b[0m\u001b[1;33m\u001b[0m\u001b[0m\n\u001b[0;32m   2895\u001b[0m                                                              \u001b[0mdview\u001b[0m\u001b[1;33m=\u001b[0m\u001b[0mdview\u001b[0m\u001b[1;33m,\u001b[0m \u001b[0msave_movie\u001b[0m\u001b[1;33m=\u001b[0m\u001b[0msave_movie\u001b[0m\u001b[1;33m,\u001b[0m \u001b[0mbase_name\u001b[0m\u001b[1;33m=\u001b[0m\u001b[0mbase_name\u001b[0m\u001b[1;33m,\u001b[0m \u001b[0msubidx\u001b[0m \u001b[1;33m=\u001b[0m \u001b[0msubidx\u001b[0m\u001b[1;33m,\u001b[0m\u001b[1;33m\u001b[0m\u001b[1;33m\u001b[0m\u001b[0m\n",
      "\u001b[1;32mc:\\Users\\Researcher\\anaconda3\\envs\\cloned_mescore\\lib\\site-packages\\caiman\\motion_correction.py\u001b[0m in \u001b[0;36mmotion_correction_piecewise\u001b[1;34m(fname, splits, strides, overlaps, add_to_movie, template, max_shifts, max_deviation_rigid, newoverlaps, newstrides, upsample_factor_grid, order, dview, save_movie, base_name, subidx, num_splits, shifts_opencv, nonneg_movie, gSig_filt, use_cuda, border_nan, var_name_hdf5, is3D, indices)\u001b[0m\n\u001b[0;32m   3213\u001b[0m             \u001b[0mdview\u001b[0m\u001b[1;33m.\u001b[0m\u001b[0mmap\u001b[0m\u001b[1;33m(\u001b[0m\u001b[0mclose_cuda_process\u001b[0m\u001b[1;33m,\u001b[0m \u001b[0mrange\u001b[0m\u001b[1;33m(\u001b[0m\u001b[0mlen\u001b[0m\u001b[1;33m(\u001b[0m\u001b[0mpars\u001b[0m\u001b[1;33m)\u001b[0m\u001b[1;33m)\u001b[0m\u001b[1;33m)\u001b[0m\u001b[1;33m\u001b[0m\u001b[1;33m\u001b[0m\u001b[0m\n\u001b[0;32m   3214\u001b[0m         \u001b[1;32melif\u001b[0m \u001b[1;34m'multiprocessing'\u001b[0m \u001b[1;32min\u001b[0m \u001b[0mstr\u001b[0m\u001b[1;33m(\u001b[0m\u001b[0mtype\u001b[0m\u001b[1;33m(\u001b[0m\u001b[0mdview\u001b[0m\u001b[1;33m)\u001b[0m\u001b[1;33m)\u001b[0m\u001b[1;33m:\u001b[0m\u001b[1;33m\u001b[0m\u001b[1;33m\u001b[0m\u001b[0m\n\u001b[1;32m-> 3215\u001b[1;33m             \u001b[0mres\u001b[0m \u001b[1;33m=\u001b[0m \u001b[0mdview\u001b[0m\u001b[1;33m.\u001b[0m\u001b[0mmap_async\u001b[0m\u001b[1;33m(\u001b[0m\u001b[0mtile_and_correct_wrapper\u001b[0m\u001b[1;33m,\u001b[0m \u001b[0mpars\u001b[0m\u001b[1;33m)\u001b[0m\u001b[1;33m.\u001b[0m\u001b[0mget\u001b[0m\u001b[1;33m(\u001b[0m\u001b[1;36m4294967\u001b[0m\u001b[1;33m)\u001b[0m\u001b[1;33m\u001b[0m\u001b[1;33m\u001b[0m\u001b[0m\n\u001b[0m\u001b[0;32m   3216\u001b[0m         \u001b[1;32melse\u001b[0m\u001b[1;33m:\u001b[0m\u001b[1;33m\u001b[0m\u001b[1;33m\u001b[0m\u001b[0m\n\u001b[0;32m   3217\u001b[0m             \u001b[0mres\u001b[0m \u001b[1;33m=\u001b[0m \u001b[0mdview\u001b[0m\u001b[1;33m.\u001b[0m\u001b[0mmap_sync\u001b[0m\u001b[1;33m(\u001b[0m\u001b[0mtile_and_correct_wrapper\u001b[0m\u001b[1;33m,\u001b[0m \u001b[0mpars\u001b[0m\u001b[1;33m)\u001b[0m\u001b[1;33m\u001b[0m\u001b[1;33m\u001b[0m\u001b[0m\n",
      "\u001b[1;32mc:\\Users\\Researcher\\anaconda3\\envs\\cloned_mescore\\lib\\multiprocessing\\pool.py\u001b[0m in \u001b[0;36mget\u001b[1;34m(self, timeout)\u001b[0m\n\u001b[0;32m    772\u001b[0m             \u001b[1;32mreturn\u001b[0m \u001b[0mself\u001b[0m\u001b[1;33m.\u001b[0m\u001b[0m_value\u001b[0m\u001b[1;33m\u001b[0m\u001b[1;33m\u001b[0m\u001b[0m\n\u001b[0;32m    773\u001b[0m         \u001b[1;32melse\u001b[0m\u001b[1;33m:\u001b[0m\u001b[1;33m\u001b[0m\u001b[1;33m\u001b[0m\u001b[0m\n\u001b[1;32m--> 774\u001b[1;33m             \u001b[1;32mraise\u001b[0m \u001b[0mself\u001b[0m\u001b[1;33m.\u001b[0m\u001b[0m_value\u001b[0m\u001b[1;33m\u001b[0m\u001b[1;33m\u001b[0m\u001b[0m\n\u001b[0m\u001b[0;32m    775\u001b[0m \u001b[1;33m\u001b[0m\u001b[0m\n\u001b[0;32m    776\u001b[0m     \u001b[1;32mdef\u001b[0m \u001b[0m_set\u001b[0m\u001b[1;33m(\u001b[0m\u001b[0mself\u001b[0m\u001b[1;33m,\u001b[0m \u001b[0mi\u001b[0m\u001b[1;33m,\u001b[0m \u001b[0mobj\u001b[0m\u001b[1;33m)\u001b[0m\u001b[1;33m:\u001b[0m\u001b[1;33m\u001b[0m\u001b[1;33m\u001b[0m\u001b[0m\n",
      "\u001b[1;31mIndexError\u001b[0m: index 9526 out of range(9526)"
     ]
    }
   ],
   "source": [
    "fnames = r\"073123\\\\RC1_SV\"\n",
    "process_Multiple_Files(fnames)"
   ]
  }
 ],
 "metadata": {
  "kernelspec": {
   "display_name": "mescore",
   "language": "python",
   "name": "python3"
  },
  "language_info": {
   "codemirror_mode": {
    "name": "ipython",
    "version": 3
   },
   "file_extension": ".py",
   "mimetype": "text/x-python",
   "name": "python",
   "nbconvert_exporter": "python",
   "pygments_lexer": "ipython3",
   "version": "3.10.8"
  },
  "orig_nbformat": 4
 },
 "nbformat": 4,
 "nbformat_minor": 2
}
